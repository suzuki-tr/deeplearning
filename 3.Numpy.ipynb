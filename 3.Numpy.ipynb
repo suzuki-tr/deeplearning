{
 "cells": [
  {
   "cell_type": "markdown",
   "metadata": {},
   "source": [
    "### 多次元配列\n"
   ]
  },
  {
   "cell_type": "code",
   "execution_count": 1,
   "metadata": {
    "collapsed": true
   },
   "outputs": [],
   "source": [
    "import numpy as np"
   ]
  },
  {
   "cell_type": "code",
   "execution_count": 7,
   "metadata": {
    "collapsed": false
   },
   "outputs": [
    {
     "name": "stdout",
     "output_type": "stream",
     "text": [
      "1\n",
      "(4,)\n",
      "4\n",
      "3\n",
      "(3, 2, 1)\n",
      "3\n",
      "[[[0]\n",
      "  [1]]\n",
      "\n",
      " [[2]\n",
      "  [3]]\n",
      "\n",
      " [[4]\n",
      "  [5]]]\n"
     ]
    }
   ],
   "source": [
    "A = np.array([1,2,3,4])\n",
    "print np.ndim(A) # 次元数\n",
    "print A.shape    # 配列の形状\n",
    "print A.shape[0] # 先頭要素の形状\n",
    "\n",
    "B = np.arange(6).reshape(3,2,1)\n",
    "print np.ndim(B) # 次元数\n",
    "print B.shape    # 配列の形状\n",
    "print B.shape[0] # 先頭要素の形状\n",
    "print B\n"
   ]
  },
  {
   "cell_type": "markdown",
   "metadata": {},
   "source": [
    "### 内積"
   ]
  },
  {
   "cell_type": "code",
   "execution_count": 8,
   "metadata": {
    "collapsed": false
   },
   "outputs": [
    {
     "name": "stdout",
     "output_type": "stream",
     "text": [
      "(2, 2)\n",
      "(2, 2)\n",
      "[[ 8  5]\n",
      " [20 13]]\n"
     ]
    }
   ],
   "source": [
    "A = np.array([[1,2],[3,4]])\n",
    "print A.shape\n",
    "B = np.array([[4,3],[2,1]])\n",
    "print B.shape\n",
    "\n",
    "print np.dot(A,B)\n",
    "# [[1*4 + 2*2 , 1*3 + 2*1]\n",
    "#  [3*4 + 4*2 , 3*3 , 4*1]]"
   ]
  },
  {
   "cell_type": "code",
   "execution_count": 13,
   "metadata": {
    "collapsed": false
   },
   "outputs": [
    {
     "name": "stdout",
     "output_type": "stream",
     "text": [
      "(3, 2)\n",
      "[[0 1]\n",
      " [2 3]\n",
      " [4 5]]\n",
      "(2, 1)\n",
      "[[7]\n",
      " [8]]\n",
      "[[ 8]\n",
      " [38]\n",
      " [68]]\n"
     ]
    }
   ],
   "source": [
    "C = np.arange(6).reshape(3,2)\n",
    "print C.shape\n",
    "print C\n",
    "D = np.array([7,8]).reshape(2,1)\n",
    "print D.shape\n",
    "print D\n",
    "print np.dot(C,D)\n",
    "# [0*7 + 1*8\n",
    "#  2*7 + 3*8\n",
    "#  4*7 + 5*8]\n"
   ]
  },
  {
   "cell_type": "code",
   "execution_count": null,
   "metadata": {
    "collapsed": true
   },
   "outputs": [],
   "source": []
  }
 ],
 "metadata": {
  "kernelspec": {
   "display_name": "Python 2",
   "language": "python",
   "name": "python2"
  },
  "language_info": {
   "codemirror_mode": {
    "name": "ipython",
    "version": 2
   },
   "file_extension": ".py",
   "mimetype": "text/x-python",
   "name": "python",
   "nbconvert_exporter": "python",
   "pygments_lexer": "ipython2",
   "version": "2.7.11"
  }
 },
 "nbformat": 4,
 "nbformat_minor": 0
}
