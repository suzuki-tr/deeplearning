{
 "cells": [
  {
   "cell_type": "markdown",
   "metadata": {},
   "source": [
    "## Download MNIST data\n"
   ]
  },
  {
   "cell_type": "code",
   "execution_count": 8,
   "metadata": {
    "collapsed": false
   },
   "outputs": [],
   "source": [
    "import os\n",
    "import urllib\n",
    "url_base = 'http://yann.lecun.com/exdb/mnist/'\n",
    "key_file = {\n",
    "    'train_img':'train-images-idx3-ubyte.gz',\n",
    "    'train_label':'train-labels-idx1-ubyte.gz',\n",
    "    'test_img':'t10k-images-idx3-ubyte.gz',\n",
    "    'test_label':'t10k-labels-idx1-ubyte.gz'\n",
    "}\n",
    "\n",
    "#dataset_dir = os.path.dirname(__file__)\n",
    "dataset_dir = './'"
   ]
  },
  {
   "cell_type": "code",
   "execution_count": 9,
   "metadata": {
    "collapsed": false
   },
   "outputs": [
    {
     "name": "stdout",
     "output_type": "stream",
     "text": [
      "Downloading t10k-images-idx3-ubyte.gz ... ./t10k-images-idx3-ubyte.gz\n",
      "Downloading t10k-labels-idx1-ubyte.gz ... ./t10k-labels-idx1-ubyte.gz\n",
      "Downloading train-images-idx3-ubyte.gz ... ./train-images-idx3-ubyte.gz\n",
      "Downloading train-labels-idx1-ubyte.gz ... ./train-labels-idx1-ubyte.gz\n",
      "Done\n"
     ]
    }
   ],
   "source": [
    "for v in key_file.values():\n",
    "    url = url_base + v\n",
    "    file_path = dataset_dir + v\n",
    "    print(\"Downloading \" + v + \" ... \" + file_path)\n",
    "    urllib.urlretrieve(url,file_path)\n",
    "    #urllib.request.urlretrieve(url_base + file_name, file_path)\n",
    "print(\"Done\")"
   ]
  },
  {
   "cell_type": "markdown",
   "metadata": {},
   "source": [
    "### pickle形式で保存"
   ]
  },
  {
   "cell_type": "code",
   "execution_count": 19,
   "metadata": {
    "collapsed": false
   },
   "outputs": [
    {
     "name": "stdout",
     "output_type": "stream",
     "text": [
      "Converting ./t10k-images-idx3-ubyte.gz to NumPy Array ...\n",
      "Converting ./t10k-labels-idx1-ubyte.gz to NumPy Array ...\n",
      "Converting ./train-images-idx3-ubyte.gz to NumPy Array ...\n",
      "Converting ./train-labels-idx1-ubyte.gz to NumPy Array ...\n",
      "Creating pickle file ..../mnist.pkl\n"
     ]
    }
   ],
   "source": [
    "import gzip\n",
    "import pickle\n",
    "import numpy as np\n",
    "\n",
    "train_num = 60000\n",
    "test_num = 10000\n",
    "img_dim = (1, 28, 28)\n",
    "img_size = 784\n",
    "\n",
    "save_file = dataset_dir + \"mnist.pkl\"\n",
    "\n",
    "dataset = {}\n",
    "for key, value in key_file.iteritems():\n",
    "    file_path = dataset_dir + value\n",
    "    print(\"Converting \" + file_path + \" to NumPy Array ...\")\n",
    "\n",
    "    if key.count('img'):\n",
    "        with gzip.open(file_path, 'rb') as f:\n",
    "            data = np.frombuffer(f.read(), np.uint8, offset=16)\n",
    "            data = data.reshape(-1, img_size)\n",
    "    elif key.count('label'):\n",
    "        with gzip.open(file_path, 'rb') as f:\n",
    "            data = np.frombuffer(f.read(), np.uint8, offset=8)\n",
    "    dataset[key] = data\n",
    "\n",
    "print(\"Creating pickle file ...\" + save_file)\n",
    "with open(save_file, 'wb') as f:\n",
    "    pickle.dump(dataset, f, -1)\n"
   ]
  },
  {
   "cell_type": "markdown",
   "metadata": {},
   "source": [
    "### Pickleデータから読み込み"
   ]
  },
  {
   "cell_type": "code",
   "execution_count": 21,
   "metadata": {
    "collapsed": false
   },
   "outputs": [
    {
     "name": "stdout",
     "output_type": "stream",
     "text": [
      "x_train.shape:(60000, 784)\n",
      "t_train.shape:(60000,)\n",
      "x_test.shape:(10000, 784)\n",
      "t_test.shape:(10000,)\n"
     ]
    }
   ],
   "source": [
    "with open(save_file, 'rb') as f:\n",
    "    dataset = pickle.load(f)\n",
    "\n",
    "x_train = dataset['train_img']\n",
    "t_train = dataset['train_label']\n",
    "x_test  = dataset['test_img']\n",
    "t_test  = dataset['test_label']\n",
    "\n",
    "print ('x_train.shape:{}'.format(x_train.shape))\n",
    "print ('t_train.shape:{}'.format(t_train.shape))\n",
    "print ('x_test.shape:{}'.format(x_test.shape))\n",
    "print ('t_test.shape:{}'.format(t_test.shape))"
   ]
  },
  {
   "cell_type": "code",
   "execution_count": 22,
   "metadata": {
    "collapsed": true
   },
   "outputs": [],
   "source": [
    "# 0.0〜1.0の値に正規化する\n",
    "def normalize(dataset): #expect: dataset['train_img'], dataset['test_img']):\n",
    "    dataset = dataset.astype(np.float32)\n",
    "    dataset /= 255.0\n",
    "    return dataset\n",
    "\n",
    "# ラベルをone-hot表現とする（正解ラベルのIndexだけが1で他がゼロ）\n",
    "def one_hot_label(dataset): #expect: dataset['train_label'], dataset['test_label']):\n",
    "    T = np.zeros((dataset.size, 10)) # 10 class \n",
    "    for idx, row in enumerate(T):\n",
    "        row[dataset[idx]] = 1 # 対象クラスのインデックス番号の値を1(他は0)\n",
    "    return T\n"
   ]
  },
  {
   "cell_type": "markdown",
   "metadata": {},
   "source": [
    "### データの表示"
   ]
  },
  {
   "cell_type": "code",
   "execution_count": 27,
   "metadata": {
    "collapsed": true
   },
   "outputs": [],
   "source": [
    "#import sys, os\n",
    "#import numpy as np\n",
    "#from PIL import Image\n",
    "import matplotlib.pyplot as plt\n",
    "%matplotlib inline\n",
    "\n",
    "def img_show(img):\n",
    "    #pil_img = Image.fromarray(np.uint8(img))\n",
    "    #pil_img.show()\n",
    "    plt.imshow(img)\n",
    "    plt.gray()\n",
    "    plt.show()"
   ]
  },
  {
   "cell_type": "code",
   "execution_count": 28,
   "metadata": {
    "collapsed": false
   },
   "outputs": [
    {
     "data": {
      "image/png": "[encoded data removed]",
      "text/plain": [
       "<matplotlib.figure.Figure at 0x7fc75c7b6a90>"
      ]
     },
     "metadata": {},
     "output_type": "display_data"
    }
   ],
   "source": [
    "img = x_train[0]\n",
    "label = t_train[0]\n",
    "\n",
    "img = img.reshape(28,28) # grayscale\n",
    "img_show(img)"
   ]
  },
  {
   "cell_type": "code",
   "execution_count": null,
   "metadata": {
    "collapsed": true
   },
   "outputs": [],
   "source": []
  }
 ],
 "metadata": {
  "kernelspec": {
   "display_name": "Python 2",
   "language": "python",
   "name": "python2"
  },
  "language_info": {
   "codemirror_mode": {
    "name": "ipython",
    "version": 2
   },
   "file_extension": ".py",
   "mimetype": "text/x-python",
   "name": "python",
   "nbconvert_exporter": "python",
   "pygments_lexer": "ipython2",
   "version": "2.7.11"
  }
 },
 "nbformat": 4,
 "nbformat_minor": 0
}
