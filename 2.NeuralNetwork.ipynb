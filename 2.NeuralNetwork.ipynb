{
 "cells": [
  {
   "cell_type": "markdown",
   "metadata": {},
   "source": [
    "## 活性化関数\n",
    "#### シグモイド関数"
   ]
  },
  {
   "cell_type": "code",
   "execution_count": 3,
   "metadata": {
    "collapsed": true
   },
   "outputs": [],
   "source": [
    "import numpy as np\n",
    "import matplotlib.pyplot as plt\n",
    "%matplotlib inline"
   ]
  },
  {
   "cell_type": "code",
   "execution_count": 2,
   "metadata": {
    "collapsed": true
   },
   "outputs": [],
   "source": [
    "def sigmoid(x):\n",
    "    return 1/(1+np.exp(-x))"
   ]
  },
  {
   "cell_type": "code",
   "execution_count": 3,
   "metadata": {
    "collapsed": false
   },
   "outputs": [
    {
     "data": {
      "image/png": "[encoded data removed]",
      "text/plain": [
       "<matplotlib.figure.Figure at 0x7f9a44debe90>"
      ]
     },
     "metadata": {},
     "output_type": "display_data"
    }
   ],
   "source": [
    "x = np.arange( -5.0, 5.0, 0.1)\n",
    "y = sigmoid(x)\n",
    "plt.plot(x,y)\n",
    "plt.ylim(-0.1,1.1) #y軸の範囲を指定\n",
    "plt.show()"
   ]
  },
  {
   "cell_type": "markdown",
   "metadata": {},
   "source": [
    "#### ReLU"
   ]
  },
  {
   "cell_type": "code",
   "execution_count": 4,
   "metadata": {
    "collapsed": true
   },
   "outputs": [],
   "source": [
    "def relu(x):\n",
    "    return np.maximum(0,x)"
   ]
  },
  {
   "cell_type": "code",
   "execution_count": 5,
   "metadata": {
    "collapsed": false
   },
   "outputs": [
    {
     "data": {
      "image/png": "[encoded data removed]",
      "text/plain": [
       "<matplotlib.figure.Figure at 0x7f9a42a5fe10>"
      ]
     },
     "metadata": {},
     "output_type": "display_data"
    }
   ],
   "source": [
    "x = np.arange( -2.0, 2.0, 0.1)\n",
    "y = relu(x)\n",
    "plt.plot(x,y)\n",
    "plt.ylim(-0.1,2) #y軸の範囲を指定\n",
    "plt.show()"
   ]
  },
  {
   "cell_type": "markdown",
   "metadata": {},
   "source": [
    "## 3層ニューラルネットワーク"
   ]
  },
  {
   "cell_type": "code",
   "execution_count": 6,
   "metadata": {
    "collapsed": false
   },
   "outputs": [
    {
     "name": "stdout",
     "output_type": "stream",
     "text": [
      "A1 [ 0.3  0.7  1.1]\n",
      "Z1 [ 0.57444252  0.66818777  0.75026011]\n",
      "A2 [ 0.51615984  1.21402696]\n",
      "Z2 [ 0.62624937  0.7710107 ]\n",
      "A3 [ 0.31682708  0.69627909]\n"
     ]
    }
   ],
   "source": [
    "X = np.array([1.0, 0.5])                          #入力信号\n",
    "W1 = np.array([[0.1, 0.3, 0.5],[0.2, 0.4, 0.6]])  #重み 2次元 -> 3次元\n",
    "B1 = np.array([0.1, 0.2, 0.3])                    #バイアス\n",
    "W2 = np.array([[0.1, 0.4],[0.2, 0.5],[0.3, 0.6]]) #重み 3次元 -> 2次元\n",
    "B2 = np.array([0.1, 0.2])                         #バイアス\n",
    "W3 = np.array([[0.1, 0.3],[0.2, 0.4]])            #重み 2次元 -> 2次元\n",
    "B3 = np.array([0.1, 0.2])                         #バイアス\n",
    "\n",
    "\n",
    "A1 = np.dot(X,W1)+B1\n",
    "print 'A1',A1\n",
    "\n",
    "Z1 = sigmoid(A1)\n",
    "print 'Z1',Z1\n",
    "\n",
    "A2 = np.dot(Z1,W2) + B2\n",
    "print 'A2',A2\n",
    "\n",
    "Z2 = sigmoid(A2)\n",
    "print 'Z2',Z2\n",
    "\n",
    "A3 = np.dot(Z2,W3) + B3\n",
    "print 'A3',A3\n",
    "\n",
    "Y = A3 # そのまま出力"
   ]
  },
  {
   "cell_type": "code",
   "execution_count": 7,
   "metadata": {
    "collapsed": true
   },
   "outputs": [],
   "source": [
    "def init_network():\n",
    "    network = {}\n",
    "    network['W1'] = np.array([[0.1, 0.3, 0.5],[0.2, 0.4, 0.6]])  #重み 2次元 -> 3次元\n",
    "    network['B1'] = np.array([0.1, 0.2, 0.3])                    #バイアス\n",
    "    network['W2'] = np.array([[0.1, 0.4],[0.2, 0.5],[0.3, 0.6]]) #重み 3次元 -> 2次元\n",
    "    network['B2'] = np.array([0.1, 0.2])                         #バイアス\n",
    "    network['W3'] = np.array([[0.1, 0.3],[0.2, 0.4]])            #重み 2次元 -> 2次元\n",
    "    network['B3'] = np.array([0.1, 0.2])                         #バイアス\n",
    "    return network\n",
    "\n",
    "def forward(network, x):\n",
    "    W1,W2,W3 = network['W1'], network['W2'], network['W3']\n",
    "    B1,B2,B3 = network['B1'], network['B2'], network['B3']\n",
    "    a1 = np.dot(x, W1) + B1\n",
    "    z1 = sigmoid(a1)\n",
    "    a2 = np.dot(z1, W2) + B2\n",
    "    z2 = sigmoid(a2)\n",
    "    a3 = np.dot(z2, W3) + B3\n",
    "    return a3"
   ]
  },
  {
   "cell_type": "code",
   "execution_count": 8,
   "metadata": {
    "collapsed": false
   },
   "outputs": [
    {
     "name": "stdout",
     "output_type": "stream",
     "text": [
      "[ 0.31682708  0.69627909]\n"
     ]
    }
   ],
   "source": [
    "network = init_network()\n",
    "x = np.array([1.0, 0.5])\n",
    "y = forward(network,x)\n",
    "print (y)"
   ]
  },
  {
   "cell_type": "code",
   "execution_count": 9,
   "metadata": {
    "collapsed": false
   },
   "outputs": [
    {
     "name": "stdout",
     "output_type": "stream",
     "text": [
      "0 3 [0 1 2]\n",
      "3 6 [3 4 5]\n",
      "6 9 [6 7 8]\n",
      "9 12 [ 9 10 11]\n",
      "12 15 [12 13 14]\n",
      "15 18 [15 16 17]\n",
      "18 21 [18 19 20]\n",
      "21 24 [21 22 23]\n",
      "24 27 [24 25 26]\n",
      "27 30 [27 28 29]\n",
      "30 33 [30 31 32]\n",
      "33 36 [33 34 35]\n",
      "36 39 [36 37 38]\n",
      "39 42 [39 40 41]\n",
      "42 45 [42 43 44]\n",
      "45 48 [45 46 47]\n",
      "48 51 [48 49 50]\n",
      "51 54 [51 52 53]\n",
      "54 57 [54 55 56]\n",
      "57 60 [57 58 59]\n",
      "60 63 [60 61 62]\n",
      "63 66 [63 64 65]\n",
      "66 69 [66 67 68]\n",
      "69 72 [69 70 71]\n",
      "72 75 [72 73 74]\n",
      "75 78 [75 76 77]\n",
      "78 81 [78 79 80]\n",
      "81 84 [81 82 83]\n",
      "84 87 [84 85 86]\n",
      "87 90 [87 88 89]\n",
      "90 93 [90 91 92]\n",
      "93 96 [93 94 95]\n",
      "96 99 [96 97 98]\n",
      "99 102 [99]\n"
     ]
    }
   ],
   "source": [
    "x = np.arange(100)\n",
    "step = 3\n",
    "for i in range(0,100,step):\n",
    "    y = x[i:i+step]\n",
    "    print i,i+step,y"
   ]
  },
  {
   "cell_type": "markdown",
   "metadata": {
    "collapsed": true
   },
   "source": [
    "## 出力層"
   ]
  },
  {
   "cell_type": "markdown",
   "metadata": {},
   "source": [
    "#### ソフトマックス関数"
   ]
  },
  {
   "cell_type": "code",
   "execution_count": 5,
   "metadata": {
    "collapsed": true
   },
   "outputs": [],
   "source": [
    "def softmax(a):\n",
    "    max_a = np.max(a) #桁溢れを防ぐために最大値を利用\n",
    "    exp_a = np.exp(a - max_a)\n",
    "    sum_exp_a = np.sum(exp_a)\n",
    "    y = exp_a / sum_exp_a\n",
    "    return y"
   ]
  },
  {
   "cell_type": "code",
   "execution_count": 7,
   "metadata": {
    "collapsed": false
   },
   "outputs": [
    {
     "name": "stdout",
     "output_type": "stream",
     "text": [
      "[ 0.01821127  0.24519181  0.73659691]\n",
      "1.0\n"
     ]
    }
   ],
   "source": [
    "## test of softmax()\n",
    "## ソフトマックスは全要素の合計1となるので確率として解釈できる\n",
    "## ソフトマックスのニューロン数は、クラス数とする\n",
    "\n",
    "a = np.array([0.3, 2.9, 4.0])\n",
    "y = softmax(a)\n",
    "print y\n",
    "print np.sum(y)"
   ]
  },
  {
   "cell_type": "code",
   "execution_count": null,
   "metadata": {
    "collapsed": true
   },
   "outputs": [],
   "source": []
  }
 ],
 "metadata": {
  "kernelspec": {
   "display_name": "Python 2",
   "language": "python",
   "name": "python2"
  },
  "language_info": {
   "codemirror_mode": {
    "name": "ipython",
    "version": 2
   },
   "file_extension": ".py",
   "mimetype": "text/x-python",
   "name": "python",
   "nbconvert_exporter": "python",
   "pygments_lexer": "ipython2",
   "version": "2.7.11"
  }
 },
 "nbformat": 4,
 "nbformat_minor": 0
}
